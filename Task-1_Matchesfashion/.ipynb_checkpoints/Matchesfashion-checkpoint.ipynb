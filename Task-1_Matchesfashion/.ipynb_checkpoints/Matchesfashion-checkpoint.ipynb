{
 "cells": [
  {
   "cell_type": "markdown",
   "metadata": {},
   "source": [
    "#### Task 1: \n",
    "#### Scrape data for all products from the men's shoes section using Python from https://farfetch.com or https://matchesfashion.com (choose any one). The data we want you to collect should be for Germany (Deutschland). Make sure that you select the right country and the prices are in Euros (€).The output should be a .csv file with the following column headers.\n",
    ">Name: the name or the title of the product  \n",
    ">Brand: the brand name of the product  \n",
    ">Price: the price of the product   \n",
    ">Image Url: the url of the product image   \n",
    ">Product Url: the url of the product page"
   ]
  },
  {
   "cell_type": "markdown",
   "metadata": {},
   "source": [
    "#### Import All Necessary packages"
   ]
  },
  {
   "cell_type": "code",
   "execution_count": 13,
   "metadata": {},
   "outputs": [],
   "source": [
    "#import all necessary packages\n",
    "import re, csv, time, random, pandas as pd\n",
    "from lxml import html\n",
    "import requests\n",
    "import math\n",
    "from csv import writer\n",
    "from lxml import html\n",
    "from selenium import webdriver\n",
    "from selenium.webdriver.support.ui import WebDriverWait,Select\n",
    "from selenium.webdriver.common.by import By\n",
    "from selenium.webdriver.support import expected_conditions as EC\n",
    "from selenium.webdriver.common.action_chains import ActionChains"
   ]
  },
  {
   "cell_type": "markdown",
   "metadata": {},
   "source": [
    "#### All the xpaths which will be used to extract the particular data through the crawling "
   ]
  },
  {
   "cell_type": "code",
   "execution_count": 14,
   "metadata": {},
   "outputs": [],
   "source": [
    "#Configuration Block \n",
    "Dropdown_div_Xpath = '//*[@id=\"settings__wrapper\"]/div[1]/div'\n",
    "Germany_Country_Xpath = '//*[@id=\"settings__wrapper\"]/div[1]/div/div/span[73]'\n",
    "Submit_Button_Xpath = '//*[@id=\"command\"]/button'\n",
    "Product_Numbers = '//*[@id=\"sort_form1\"]/div/div/div[4]'\n",
    "Extract_Total_Products_Xpath = \"//li[@class='lister__item']\"\n",
    "Image_Url_Xpath = './div/div/a//img[@class=\"lazy\"]/@data-original'\n",
    "Product_Url_Xpath = './div/div/a/@href'\n",
    "Product_Name_Xpath = './div/a/@title'\n",
    "Product_Brand_Xpath = './div/a/div[@class=\"lister__item__title\"]'\n",
    "Product_Price_Xpath = './div/a/div[@class=\"lister__item__price\"]/span//text()'"
   ]
  },
  {
   "cell_type": "markdown",
   "metadata": {},
   "source": [
    "#### *Heading 1: Start Crawling for the products from Germany (Deutschland) with price in Euros (€). "
   ]
  },
  {
   "cell_type": "code",
   "execution_count": 16,
   "metadata": {},
   "outputs": [
    {
     "name": "stdout",
     "output_type": "stream",
     "text": [
      "Total Products :  1543\n",
      "Total Pages Needs to be crawled :  7\n",
      "Page_2 :  https://www.matchesfashion.com/intl/mens/shop/shoes?page=2&noOfRecordsPerPage=240&sort=\n",
      "Page_3 :  https://www.matchesfashion.com/intl/mens/shop/shoes?page=3&noOfRecordsPerPage=240&sort=\n",
      "Page_4 :  https://www.matchesfashion.com/intl/mens/shop/shoes?page=4&noOfRecordsPerPage=240&sort=\n",
      "Page_5 :  https://www.matchesfashion.com/intl/mens/shop/shoes?page=5&noOfRecordsPerPage=240&sort=\n",
      "Page_6 :  https://www.matchesfashion.com/intl/mens/shop/shoes?page=6&noOfRecordsPerPage=240&sort=\n",
      "Page_7 :  https://www.matchesfashion.com/intl/mens/shop/shoes?page=7&noOfRecordsPerPage=240&sort=\n",
      "1543 Products Have been crawled\n"
     ]
    }
   ],
   "source": [
    "#start crawling for prodicts from \"/www.matchesfashion.com/\"\n",
    "\n",
    "#Provide the Web Url for setting \n",
    "input_url = \"https://www.matchesfashion.com/intl/settings?returnUrl=%2Fintl%2Fmens%2Fshop%2Fshoes\"\n",
    "driver = webdriver.Firefox()\n",
    "# driver = webdriver.Chrome(executable_path=r'chromedriver.exe')\n",
    "driver.get(input_url)\n",
    "#maximize the browser\n",
    "driver.maximize_window()\n",
    "\n",
    "#First of all main goal is to select the desired country and currency\n",
    "#Select the country from the drop down menu\n",
    "actions = ActionChains(driver)\n",
    "element1 = driver.find_element_by_xpath(Dropdown_div_Xpath)\n",
    "actions.move_to_element(element1).click().perform()\n",
    "#Wait for 5 minutes \n",
    "time.sleep(5)\n",
    "choose_country = driver.find_element_by_xpath(Germany_Country_Xpath)\n",
    "choose_country.click()\n",
    "time.sleep(10)\n",
    "submit_button = driver.find_element_by_xpath(Submit_Button_Xpath)\n",
    "submit_button.click()\n",
    "\n",
    "#Wait for the Page loading\n",
    "time.sleep(2) \n",
    "driver.implicitly_wait(1000)\n",
    "#maximize the browser\n",
    "driver.maximize_window()\n",
    "\n",
    "#After submitting the details and clicking on submit button it will redirect to the main men/sheos/ web page\n",
    "HTMLTree = html.fromstring(driver.page_source)\n",
    "\n",
    "#Get The Number of Products details\n",
    "NProducts = HTMLTree.xpath(Product_Numbers)\n",
    "\n",
    "#Number of total products for man shoes\n",
    "total_products = int((NProducts[0].text_content()).split()[0].replace(',',''))\n",
    "print('Total Products : ' , total_products)\n",
    "#Crawl the products from each page (If available)\n",
    "scrape_products_per_page = 240\n",
    "total_page_needs_to_be_crawled = math.ceil(total_products/scrape_products_per_page)\n",
    "print('Total Pages Needs to be crawled : ' ,total_page_needs_to_be_crawled) \n",
    "\n",
    "\n",
    "output_rows = []\n",
    "\n",
    "class MatchESFashion:\n",
    "    def __init__(self):\n",
    "        self.start = 'start'\n",
    "        \n",
    "    def ScrapeManFashion(self,all_products,product_id):\n",
    "        image_url = 'https:' + all_products[product_id].xpath(Image_Url_Xpath)[0]\n",
    "        product_url = 'https://www.matchesfashion.com' + all_products[product_id].xpath(Product_Url_Xpath)[0]\n",
    "        product_name = all_products[product_id].xpath(Product_Name_Xpath)[0]\n",
    "        produtc_brand = all_products[product_id].xpath(Product_Brand_Xpath)[0].text_content()\n",
    "        price_info = all_products[product_id].xpath(Product_Price_Xpath)[0]\n",
    "        price = price_info.replace('€','€ ')\n",
    "        return [product_name,produtc_brand,price,image_url,product_url]\n",
    "\n",
    "    def Scrape_Products_Data(self,tree):\n",
    "        all_products= tree.xpath(Extract_Total_Products_Xpath)\n",
    "        for product_id in range(len(all_products)):\n",
    "            product_output = self.ScrapeManFashion(all_products,product_id)\n",
    "            output_rows.append(product_output)\n",
    "\n",
    "#Create the object of the class and call a method\n",
    "First_Web_Page = MatchESFashion()\n",
    "First_Web_Page.Scrape_Products_Data(HTMLTree)\n",
    "time.sleep(5)\n",
    "\n",
    "\n",
    "# driver.execute_script(\"window.scrollTo(0, document.body.scrollHeight);\")\n",
    "\n",
    "\n",
    "#Crawl Product Details for Other Pages Because Page1 already has been crawled\n",
    "for i in range(total_page_needs_to_be_crawled-1):\n",
    "    next_page_link= driver.find_element_by_xpath(\"//li[@class='next']/a\")\n",
    "    print('Page_' + str(i+2) + ' : ' ,next_page_link.get_attribute(\"href\"))\n",
    "    driver.get(next_page_link.get_attribute(\"href\"))\n",
    "#     driver.execute_script(\"arguments[0].click();\", next_page_link)\n",
    "# #     next_page_link = driver.find_element_by_xpath(\"//li[@class='next']/a\")\n",
    "# #     next_page_link.click()\n",
    "    #Wait for the Page loading\n",
    "    time.sleep(2) \n",
    "    driver.implicitly_wait(1000)\n",
    "    #maximize the browser\n",
    "    driver.maximize_window()\n",
    "\n",
    "    HTMLTree = html.fromstring(driver.page_source)\n",
    "    MatchESFashion().Scrape_Products_Data(HTMLTree)\n",
    "    time.sleep(10)\n",
    "\n",
    "driver.quit()\n",
    "print('{} Products Have been crawled'.format(len(output_rows)))"
   ]
  },
  {
   "cell_type": "markdown",
   "metadata": {},
   "source": [
    "#### Store Crawled information in excel file (.csv format)"
   ]
  },
  {
   "cell_type": "code",
   "execution_count": 17,
   "metadata": {},
   "outputs": [],
   "source": [
    "#create a list of column names \n",
    "Column_Names = [['Product_Name' ,'Product_Brand' , 'Price' , 'Image_Url' ,  'Product_Url']]\n",
    "#append columns with data as header\n",
    "output_rows = Column_Names + output_rows\n",
    "\n",
    "#Write complete data in csv file \n",
    "#create excel data file\n",
    "Filename = \"Matchesfashion.csv\"  #Give file name with path\n",
    "with open(Filename, \"w\", newline=\"\") as csvfile:\n",
    "    writer = csv.writer(csvfile)\n",
    "    writer.writerows(output_rows)"
   ]
  },
  {
   "cell_type": "markdown",
   "metadata": {},
   "source": [
    "#### Read Dataset"
   ]
  },
  {
   "cell_type": "code",
   "execution_count": 18,
   "metadata": {},
   "outputs": [
    {
     "name": "stdout",
     "output_type": "stream",
     "text": [
      "Length of dataset :  1543\n",
      "Number of Duplicate Rows :  0\n"
     ]
    },
    {
     "data": {
      "text/html": [
       "<div>\n",
       "<style scoped>\n",
       "    .dataframe tbody tr th:only-of-type {\n",
       "        vertical-align: middle;\n",
       "    }\n",
       "\n",
       "    .dataframe tbody tr th {\n",
       "        vertical-align: top;\n",
       "    }\n",
       "\n",
       "    .dataframe thead th {\n",
       "        text-align: right;\n",
       "    }\n",
       "</style>\n",
       "<table border=\"1\" class=\"dataframe\">\n",
       "  <thead>\n",
       "    <tr style=\"text-align: right;\">\n",
       "      <th></th>\n",
       "      <th>Product_Name</th>\n",
       "      <th>Product_Brand</th>\n",
       "      <th>Price</th>\n",
       "      <th>Image_Url</th>\n",
       "      <th>Product_Url</th>\n",
       "    </tr>\n",
       "  </thead>\n",
       "  <tbody>\n",
       "    <tr>\n",
       "      <th>0</th>\n",
       "      <td>Rhyton logo Mickey Mouse-print leather trainers</td>\n",
       "      <td>Gucci</td>\n",
       "      <td>€ 790</td>\n",
       "      <td>https://assetsprx.matchesfashion.com/img/produ...</td>\n",
       "      <td>https://www.matchesfashion.com/intl/products/G...</td>\n",
       "    </tr>\n",
       "    <tr>\n",
       "      <th>1</th>\n",
       "      <td>Ace Mickey Mouse canvas trainers</td>\n",
       "      <td>Gucci</td>\n",
       "      <td>€ 590</td>\n",
       "      <td>https://assetsprx.matchesfashion.com/img/produ...</td>\n",
       "      <td>https://www.matchesfashion.com/intl/products/G...</td>\n",
       "    </tr>\n",
       "    <tr>\n",
       "      <th>2</th>\n",
       "      <td>Rhyton GG-disc leather trainers</td>\n",
       "      <td>Gucci</td>\n",
       "      <td>€ 790</td>\n",
       "      <td>https://assetsprx.matchesfashion.com/img/produ...</td>\n",
       "      <td>https://www.matchesfashion.com/intl/products/G...</td>\n",
       "    </tr>\n",
       "    <tr>\n",
       "      <th>3</th>\n",
       "      <td>Ace Mickey Mouse leather trainers</td>\n",
       "      <td>Gucci</td>\n",
       "      <td>€ 690</td>\n",
       "      <td>https://assetsprx.matchesfashion.com/img/produ...</td>\n",
       "      <td>https://www.matchesfashion.com/intl/products/G...</td>\n",
       "    </tr>\n",
       "    <tr>\n",
       "      <th>4</th>\n",
       "      <td>OG sole canvas high-top trainers\\t</td>\n",
       "      <td>Mihara Yasuhiro</td>\n",
       "      <td>€ 418</td>\n",
       "      <td>https://assetsprx.matchesfashion.com/img/produ...</td>\n",
       "      <td>https://www.matchesfashion.com/intl/products/M...</td>\n",
       "    </tr>\n",
       "  </tbody>\n",
       "</table>\n",
       "</div>"
      ],
      "text/plain": [
       "                                      Product_Name    Product_Brand  Price  \\\n",
       "0  Rhyton logo Mickey Mouse-print leather trainers            Gucci  € 790   \n",
       "1                 Ace Mickey Mouse canvas trainers            Gucci  € 590   \n",
       "2                  Rhyton GG-disc leather trainers            Gucci  € 790   \n",
       "3                Ace Mickey Mouse leather trainers            Gucci  € 690   \n",
       "4               OG sole canvas high-top trainers\\t  Mihara Yasuhiro  € 418   \n",
       "\n",
       "                                           Image_Url  \\\n",
       "0  https://assetsprx.matchesfashion.com/img/produ...   \n",
       "1  https://assetsprx.matchesfashion.com/img/produ...   \n",
       "2  https://assetsprx.matchesfashion.com/img/produ...   \n",
       "3  https://assetsprx.matchesfashion.com/img/produ...   \n",
       "4  https://assetsprx.matchesfashion.com/img/produ...   \n",
       "\n",
       "                                         Product_Url  \n",
       "0  https://www.matchesfashion.com/intl/products/G...  \n",
       "1  https://www.matchesfashion.com/intl/products/G...  \n",
       "2  https://www.matchesfashion.com/intl/products/G...  \n",
       "3  https://www.matchesfashion.com/intl/products/G...  \n",
       "4  https://www.matchesfashion.com/intl/products/M...  "
      ]
     },
     "execution_count": 18,
     "metadata": {},
     "output_type": "execute_result"
    }
   ],
   "source": [
    "import pandas as pd\n",
    "df = pd.read_csv(r'Matchesfashion.csv', engine='python')\n",
    "print('Length of dataset : ' , len(df))\n",
    "print('Number of Duplicate Rows : ', df.duplicated().sum())\n",
    "#Extract first 5 rows from the dataset\n",
    "df.head()"
   ]
  },
  {
   "cell_type": "markdown",
   "metadata": {},
   "source": [
    "#### Simple Data Analysis"
   ]
  },
  {
   "cell_type": "code",
   "execution_count": 19,
   "metadata": {},
   "outputs": [
    {
     "data": {
      "text/html": [
       "<div>\n",
       "<style scoped>\n",
       "    .dataframe tbody tr th:only-of-type {\n",
       "        vertical-align: middle;\n",
       "    }\n",
       "\n",
       "    .dataframe tbody tr th {\n",
       "        vertical-align: top;\n",
       "    }\n",
       "\n",
       "    .dataframe thead th {\n",
       "        text-align: right;\n",
       "    }\n",
       "</style>\n",
       "<table border=\"1\" class=\"dataframe\">\n",
       "  <thead>\n",
       "    <tr style=\"text-align: right;\">\n",
       "      <th></th>\n",
       "      <th>Product_Name</th>\n",
       "      <th>Product_Brand</th>\n",
       "      <th>Price</th>\n",
       "      <th>Image_Url</th>\n",
       "      <th>Product_Url</th>\n",
       "    </tr>\n",
       "  </thead>\n",
       "  <tbody>\n",
       "    <tr>\n",
       "      <th>count</th>\n",
       "      <td>1543</td>\n",
       "      <td>1543</td>\n",
       "      <td>1543</td>\n",
       "      <td>1543</td>\n",
       "      <td>1543</td>\n",
       "    </tr>\n",
       "    <tr>\n",
       "      <th>unique</th>\n",
       "      <td>1255</td>\n",
       "      <td>103</td>\n",
       "      <td>315</td>\n",
       "      <td>1543</td>\n",
       "      <td>1543</td>\n",
       "    </tr>\n",
       "    <tr>\n",
       "      <th>top</th>\n",
       "      <td>Raised-sole low-top leather trainers</td>\n",
       "      <td>Christian Louboutin</td>\n",
       "      <td>€ 650</td>\n",
       "      <td>https://assetsprx.matchesfashion.com/img/produ...</td>\n",
       "      <td>https://www.matchesfashion.com/intl/products/V...</td>\n",
       "    </tr>\n",
       "    <tr>\n",
       "      <th>freq</th>\n",
       "      <td>12</td>\n",
       "      <td>150</td>\n",
       "      <td>62</td>\n",
       "      <td>1</td>\n",
       "      <td>1</td>\n",
       "    </tr>\n",
       "  </tbody>\n",
       "</table>\n",
       "</div>"
      ],
      "text/plain": [
       "                                Product_Name        Product_Brand  Price  \\\n",
       "count                                   1543                 1543   1543   \n",
       "unique                                  1255                  103    315   \n",
       "top     Raised-sole low-top leather trainers  Christian Louboutin  € 650   \n",
       "freq                                      12                  150     62   \n",
       "\n",
       "                                                Image_Url  \\\n",
       "count                                                1543   \n",
       "unique                                               1543   \n",
       "top     https://assetsprx.matchesfashion.com/img/produ...   \n",
       "freq                                                    1   \n",
       "\n",
       "                                              Product_Url  \n",
       "count                                                1543  \n",
       "unique                                               1543  \n",
       "top     https://www.matchesfashion.com/intl/products/V...  \n",
       "freq                                                    1  "
      ]
     },
     "execution_count": 19,
     "metadata": {},
     "output_type": "execute_result"
    }
   ],
   "source": [
    "df.describe()"
   ]
  },
  {
   "cell_type": "code",
   "execution_count": 20,
   "metadata": {},
   "outputs": [
    {
     "name": "stdout",
     "output_type": "stream",
     "text": [
      "<class 'pandas.core.frame.DataFrame'>\n",
      "RangeIndex: 1543 entries, 0 to 1542\n",
      "Data columns (total 5 columns):\n",
      " #   Column         Non-Null Count  Dtype \n",
      "---  ------         --------------  ----- \n",
      " 0   Product_Name   1543 non-null   object\n",
      " 1   Product_Brand  1543 non-null   object\n",
      " 2   Price          1543 non-null   object\n",
      " 3   Image_Url      1543 non-null   object\n",
      " 4   Product_Url    1543 non-null   object\n",
      "dtypes: object(5)\n",
      "memory usage: 60.4+ KB\n"
     ]
    }
   ],
   "source": [
    "df.info()"
   ]
  },
  {
   "cell_type": "code",
   "execution_count": 21,
   "metadata": {},
   "outputs": [
    {
     "data": {
      "text/html": [
       "<div>\n",
       "<style scoped>\n",
       "    .dataframe tbody tr th:only-of-type {\n",
       "        vertical-align: middle;\n",
       "    }\n",
       "\n",
       "    .dataframe tbody tr th {\n",
       "        vertical-align: top;\n",
       "    }\n",
       "\n",
       "    .dataframe thead th {\n",
       "        text-align: right;\n",
       "    }\n",
       "</style>\n",
       "<table border=\"1\" class=\"dataframe\">\n",
       "  <thead>\n",
       "    <tr style=\"text-align: right;\">\n",
       "      <th></th>\n",
       "      <th>Product_Name</th>\n",
       "      <th>Product_Brand</th>\n",
       "      <th>Price</th>\n",
       "      <th>Image_Url</th>\n",
       "      <th>Product_Url</th>\n",
       "    </tr>\n",
       "  </thead>\n",
       "  <tbody>\n",
       "  </tbody>\n",
       "</table>\n",
       "</div>"
      ],
      "text/plain": [
       "Empty DataFrame\n",
       "Columns: [Product_Name, Product_Brand, Price, Image_Url, Product_Url]\n",
       "Index: []"
      ]
     },
     "execution_count": 21,
     "metadata": {},
     "output_type": "execute_result"
    }
   ],
   "source": [
    "#Check duplicate item\n",
    "df[df.duplicated(['Product_Url'])]"
   ]
  },
  {
   "cell_type": "markdown",
   "metadata": {},
   "source": [
    "#### Hence there is no duplicate things"
   ]
  },
  {
   "cell_type": "code",
   "execution_count": null,
   "metadata": {},
   "outputs": [],
   "source": []
  },
  {
   "cell_type": "code",
   "execution_count": 9,
   "metadata": {},
   "outputs": [],
   "source": []
  },
  {
   "cell_type": "code",
   "execution_count": null,
   "metadata": {},
   "outputs": [],
   "source": []
  },
  {
   "cell_type": "code",
   "execution_count": null,
   "metadata": {},
   "outputs": [],
   "source": []
  }
 ],
 "metadata": {
  "kernelspec": {
   "display_name": "Python 3",
   "language": "python",
   "name": "python3"
  },
  "language_info": {
   "codemirror_mode": {
    "name": "ipython",
    "version": 3
   },
   "file_extension": ".py",
   "mimetype": "text/x-python",
   "name": "python",
   "nbconvert_exporter": "python",
   "pygments_lexer": "ipython3",
   "version": "3.6.7"
  }
 },
 "nbformat": 4,
 "nbformat_minor": 2
}
