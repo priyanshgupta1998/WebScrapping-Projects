{
  "nbformat": 4,
  "nbformat_minor": 0,
  "metadata": {
    "colab": {
      "name": "scrape_touristdata.ipynb",
      "provenance": []
    },
    "kernelspec": {
      "name": "python3",
      "display_name": "Python 3"
    },
    "accelerator": "GPU"
  },
  "cells": [
    {
      "cell_type": "code",
      "metadata": {
        "id": "JQbITFrQN4I9"
      },
      "source": [
        ""
      ],
      "execution_count": null,
      "outputs": []
    },
    {
      "cell_type": "code",
      "metadata": {
        "id": "KIMwZLgpN42E"
      },
      "source": [
        "from bs4 import BeautifulSoup\n",
        "from requests import get\n",
        "from csv import writer\n",
        "\n",
        "url = 'https://www.holidify.com/places/shimla/sightseeing-and-things-to-do.html'\n",
        "\n",
        "\n",
        "r = get(url)\n",
        "soup = BeautifulSoup(r.text, 'lxml')\n",
        "\n",
        "\n",
        "# get all tables\n",
        "tables = soup.find_all('table')"
      ],
      "execution_count": null,
      "outputs": []
    },
    {
      "cell_type": "code",
      "metadata": {
        "id": "gdUxMXxyN46n",
        "colab": {
          "base_uri": "https://localhost:8080/",
          "height": 34
        },
        "outputId": "b6de8448-4769-45eb-825d-9100ac54ba51"
      },
      "source": [
        "from urllib.request import urlopen as ureq\n",
        "from bs4 import BeautifulSoup\n",
        "import requests\n",
        "url = 'https://www.holidify.com/places/shimla/sightseeing-and-things-to-do.html'\n",
        "page = requests.get(url)\n",
        "html = BeautifulSoup(page.content,'html.parser')\n",
        "div1 = html.findAll(\"a\",{\"class\":\"holidify-color readMore btn btn-primary\"})\n",
        "len(div1)"
      ],
      "execution_count": null,
      "outputs": [
        {
          "output_type": "execute_result",
          "data": {
            "text/plain": [
              "42"
            ]
          },
          "metadata": {
            "tags": []
          },
          "execution_count": 7
        }
      ]
    },
    {
      "cell_type": "code",
      "metadata": {
        "id": "7d7jdEITN5Ab",
        "colab": {
          "base_uri": "https://localhost:8080/",
          "height": 122
        },
        "outputId": "c1858be4-6046-4a0b-8a6c-868b92bc4c53"
      },
      "source": [
        "div1[:5]"
      ],
      "execution_count": null,
      "outputs": [
        {
          "output_type": "execute_result",
          "data": {
            "text/plain": [
              "[<a class=\"holidify-color readMore btn btn-primary\" onclick='openLink(\"https://www.holidify.com/places/shimla/mall-road-sightseeing-3502.html\")' title=\"Mall Road, Shimla\">Read More</a>,\n",
              " <a class=\"holidify-color readMore btn btn-primary\" onclick='openLink(\"https://www.holidify.com/places/shimla/kalka-shimla-toy-train-sightseeing-3512.html\")' title=\"Kalka Shimla Toy Train\">Read More</a>,\n",
              " <a class=\"holidify-color readMore btn btn-primary\" onclick='openLink(\"https://www.holidify.com/places/shimla/ridge-sightseeing-3506.html\")' title=\"The Ridge\">Read More</a>,\n",
              " <a class=\"holidify-color readMore btn btn-primary\" onclick='openLink(\"https://www.holidify.com/places/shimla/cafe-simla-times-sightseeing-1253808.html\")' title=\"Cafe Simla Times\">Read More</a>,\n",
              " <a class=\"holidify-color readMore btn btn-primary\" onclick='openLink(\"https://www.holidify.com/places/kufri/\")' title=\"Kufri\">Read More</a>]"
            ]
          },
          "metadata": {
            "tags": []
          },
          "execution_count": 12
        }
      ]
    },
    {
      "cell_type": "code",
      "metadata": {
        "id": "6u0cOQEFN5HT"
      },
      "source": [
        "places = []\n",
        "for i in div1:\n",
        "    places.append((i.get('onclick')).split('\"')[1])\n",
        "    \n",
        "for link in places:\n",
        "    url = link\n",
        "    page = requests.get(url)\n",
        "    html = BeautifulSoup(page.content,'html.parser')\n",
        "    div1 = html.findAll(\"a\",{\"class\":\"col-md-6 col-xs-12 \"})"
      ],
      "execution_count": null,
      "outputs": []
    },
    {
      "cell_type": "markdown",
      "metadata": {
        "id": "E65eKG5IjmBs"
      },
      "source": [
        "\n",
        "\n",
        "---\n",
        "\n",
        "\n",
        "\n",
        "---\n",
        "\n",
        "\n",
        "\n",
        "---\n",
        "\n",
        "\n",
        "\n",
        "---\n",
        "\n",
        "\n",
        "\n",
        "---\n",
        "\n",
        "\n",
        "\n",
        "---\n",
        "\n"
      ]
    },
    {
      "cell_type": "code",
      "metadata": {
        "id": "59apCgImN5Rx"
      },
      "source": [
        "places = []\n",
        "url =\"https://www.holidify.com\"\n",
        "l = len(url)\n",
        "page = requests.get(url)\n",
        "html = BeautifulSoup(page.content,'html.parser')\n",
        "div2 = html.findAll(\"a\")\n",
        "len(div2)\n",
        "for i in div2:\n",
        "    link = str(i.get('href'))\n",
        "    #print(link)\n",
        "    if(link[0]=='/'):\n",
        "        s=url  + link \n",
        "        if ('https://www.holidify.com/places/' or 'https://www.holidify.com/state/' or 'https://www.holidify.com/country/' in s):\n",
        "            places.append(s)\n",
        "    if ('https://www.holidify.com/places/' or 'https://www.holidify.com/state/' or 'https://www.holidify.com/country/' in link):\n",
        "        places.append(link)\n",
        "        \n",
        "places"
      ],
      "execution_count": null,
      "outputs": []
    },
    {
      "cell_type": "code",
      "metadata": {
        "id": "jziOcVt0N5Qg"
      },
      "source": [
        ""
      ],
      "execution_count": null,
      "outputs": []
    },
    {
      "cell_type": "code",
      "metadata": {
        "id": "kZoLToPoN5PD",
        "colab": {
          "base_uri": "https://localhost:8080/",
          "height": 34
        },
        "outputId": "deb62b22-12b0-4df6-dcf1-2c9ab20a2948"
      },
      "source": [
        "\n",
        "url = \"https://www.holidify.com/places/manali/packages.html\"\n",
        "page = requests.get(url)\n",
        "html = BeautifulSoup(page.content,'html.parser')\n",
        "div3 = html.findAll(\"a\",{\"class\":\"paginationDigits\"})\n",
        "print(len(div3))\n",
        "for i in div3:\n",
        "    link = \"https://www.holidify.com\" + str(i.get('href'))\n",
        "    p = requests.get(link)\n",
        "    h =  BeautifulSoup(p.content,'html.parser')\n",
        "    div4 = h.find_all(\"a\",{\"class\":\"holidify-color readMore btn btn-primary\"})\n",
        "    print(len(div4))\n",
        "    print(div4)\n",
        "    \n",
        "    \n",
        "\n"
      ],
      "execution_count": null,
      "outputs": [
        {
          "output_type": "stream",
          "text": [
            "0\n"
          ],
          "name": "stdout"
        }
      ]
    },
    {
      "cell_type": "markdown",
      "metadata": {
        "id": "9WPYZqSlvQgz"
      },
      "source": [
        "\n",
        "\n",
        "---\n",
        "\n",
        "\n",
        "\n",
        "---\n",
        "\n",
        "\n",
        "\n",
        "---\n",
        "\n",
        "\n",
        "\n",
        "---\n",
        "\n",
        "\n",
        "\n",
        "---\n",
        "\n",
        "\n",
        "\n",
        "---\n",
        "\n",
        "#For INDIA"
      ]
    },
    {
      "cell_type": "code",
      "metadata": {
        "id": "10ok_ZfWN5Nj"
      },
      "source": [
        "from bs4 import BeautifulSoup \n",
        "import requests\n",
        "places = []\n",
        "url =\"https://www.holidify.com/\"\n",
        "l = len(url)\n",
        "tour = []\n",
        "page = requests.get(url)\n",
        "html = BeautifulSoup(page.content,'html.parser')\n",
        "div2 = html.findAll(\"a\")\n",
        "len(div2)\n",
        "liss = [ 'places' , 'country' , 'state']\n",
        "for i in div2:\n",
        "    link = str(i.get('href'))\n",
        "    #print(link)\n",
        "    if(link[0]=='/'):\n",
        "        s=url  + link\n",
        "        if(s.split('https://www.holidify.com//')[1].split('/')[0] in liss):\n",
        "            tour.append('https://www.holidify.com/' + s.split('https://www.holidify.com//')[1].split('/')[0] + '/' + s.split('https://www.holidify.com//')[1].split('/')[1])\n",
        "    else:\n",
        "      if(\"https://www.holidify.com/\" in link ):\n",
        "        if(link.split('https://www.holidify.com/')[1].split('/')[0] in liss):\n",
        "          tour.append('https://www.holidify.com/' + link.split('https://www.holidify.com/')[1].split('/')[0] + '/' + link.split('https://www.holidify.com/')[1].split('/')[1])\n",
        "          \n",
        "\n",
        "\n",
        "for i in set(tour):\n",
        "  \n",
        "  if('country' in i):\n",
        "    print(i+ '/places-to-visit.html')\n",
        "  else:\n",
        "    print(i + '/sightseeing-and-things-to-do.html')"
      ],
      "execution_count": null,
      "outputs": []
    },
    {
      "cell_type": "code",
      "metadata": {
        "id": "-3_Oi-r_N5Lf"
      },
      "source": [
        "\"https://www.holidify.com/state/kerala/top-destinations-places-to-visit.html\",\n",
        "\"https://www.holidify.com/state/karnataka/top-destinations-places-to-visit.html\",\n",
        "\"https://www.holidify.com/state/rajasthan/top-destinations-places-to-visit.html\",\n",
        "\"https://www.holidify.com/state/maharashtra-goa/top-destinations-places-to-visit.html\",\n",
        "\"https://www.holidify.com/state/himachal-pradesh/top-destinations-places-to-visit.html\",\n",
        "\"https://www.holidify.com/state/west-bengal/top-destinations-places-to-visit.html\",\n",
        "\"https://www.holidify.com/state/madhya-pradesh/top-destinations-places-to-visit.html\",\n",
        "\"https://www.holidify.com/state/assam/top-destinations-places-to-visit.html\",\n",
        "\"https://www.holidify.com/state/jammu-and-kashmir/top-destinations-places-to-visit.html\",\n",
        "\"https://www.holidify.com/state/gujarat/top-destinations-places-to-visit.html\",\n",
        "\"https://www.holidify.com/country/indonesia/places-to-visit.html\",\n",
        "\"https://www.holidify.com/country/uae/places-to-visit.html\",\n",
        "\"https://www.holidify.com/country/oman/places-to-visit.html\",\n",
        "\"https://www.holidify.com/country/thailand/places-to-visit.html\",\n",
        "\"https://www.holidify.com/country/nepal/places-to-visit.html\",\n",
        "\"https://www.holidify.com/country/vietnam/places-to-visit.html\","
      ],
      "execution_count": null,
      "outputs": []
    },
    {
      "cell_type": "code",
      "metadata": {
        "id": "klWE1MPEN5Ju"
      },
      "source": [
        ""
      ],
      "execution_count": null,
      "outputs": []
    },
    {
      "cell_type": "markdown",
      "metadata": {
        "id": "MJ2F0hAPWfho"
      },
      "source": [
        "\n",
        "\n",
        "---\n",
        "\n",
        "\n",
        "\n",
        "---\n",
        "\n",
        "\n",
        "\n",
        "---\n",
        "\n",
        "\n",
        "\n",
        "---\n",
        "\n",
        "\n",
        "\n",
        "---\n",
        "\n",
        "\n",
        "\n",
        "---\n",
        "\n"
      ]
    },
    {
      "cell_type": "code",
      "metadata": {
        "id": "iFSoSRsIN5FY"
      },
      "source": [
        "place = [\"https://www.holidify.com/places/goa/sightseeing-and-things-to-do.html\", \n",
        "\"https://www.holidify.com/places/singapore/sightseeing-and-things-to-do.html\",\n",
        "\"https://www.holidify.com/places/seychelles/sightseeing-and-things-to-do.html\",\n",
        "\"https://www.holidify.com/places/mauritius/sightseeing-and-things-to-do.html\"]\n",
        "\n",
        "total =[]\n",
        "for l in place:\n",
        "  url =l\n",
        "  page = requests.get(url)\n",
        "  html = BeautifulSoup(page.content,'html.parser')\n",
        "  div1 = html.findAll(\"a\",{\"class\":\"paginationDigits\"})\n",
        "  #print(len(div1))\n",
        "  all_data = []\n",
        "  su=0\n",
        "  for i in div1:\n",
        "    link = \"https://www.holidify.com\" + str(i.get('href'))\n",
        "    p = requests.get(link)\n",
        "    h =  BeautifulSoup(p.content,'html.parser')\n",
        "    div4 = h.find_all(\"a\",{\"class\":\"holidify-color readMore btn btn-primary\"})\n",
        "    #print(len(div4))\n",
        "    su += len(div4)\n",
        "\n",
        "    for j in div4:\n",
        "        all_data.append(j)\n",
        "\n",
        "  places = []\n",
        "  for k in all_data:\n",
        "    lk = (k.get('onclick').split('\"')[1])\n",
        "    if(\"https://www.holidify.com/\" in lk):\n",
        "      places.append(lk)\n",
        "    else:\n",
        "      places.append(\"https://www.holidify.com\"+ lk)\n",
        "\n",
        "  print(\"total places : \" , su)\n",
        "  for h in places:\n",
        "    total.append(h)\n",
        "\n",
        "total\n",
        "\n"
      ],
      "execution_count": null,
      "outputs": []
    },
    {
      "cell_type": "code",
      "metadata": {
        "id": "NmTtRX00Mroj"
      },
      "source": [
        "for i in total:\n",
        "  link = i\n",
        "\n",
        "  page = requests.get(link)\n",
        "  html = BeautifulSoup(page.content,'html.parser')\n",
        "  div2 = html.findAll(\"h1\" , {'class' : 'h1StyleBlack'})\n",
        "  if(len(div2)>0):\n",
        "    place_name = div2[0].get_text()\n",
        "  div3 = html.findAll(\"div\" , {'class' : 'col-md-12 col-xs-12 nopaddingLeft '})\n",
        "  s = ''\n",
        "  if(len(div3)>0):\n",
        "    for char in div3[0].get_text():\n",
        "      if char in ['\\n',' ','\\r' , '\\t']:\n",
        "          pass\n",
        "      else:\n",
        "          s+=char\n",
        "    state_name=s.split('|')[0]\n",
        "    country_name = s.split('|')[1]\n",
        "    \n",
        "\n",
        "  print('')\n",
        "  div5 = html.findAll(\"span\" , {'class' : 'biggerTextOverview'})\n",
        "  if(len(div5)>0):\n",
        "    money= div5[0].get_text()\n",
        "  div8= html.find_all(\"div\" , {'class' : 'col-xs-12 col-md-5 nopaddingLeft'})\n",
        "  if(len(div8)>0):\n",
        "    weather= div8[0].get_text().strip()\n",
        "\n",
        "  div7= html.find_all(\"div\" , {'class' : 'col-xs-12 col-md-7 nopaddingLeft'})\n",
        "  if(len(div7)>0):\n",
        "      Time Required = div7[0].get_text().strip().split('Time Required:')\n",
        "      print(Time Required)\n",
        "\n",
        "  div6 = html.find_all(\"div\" , {'class' : 'col-xs-12 col-md-12 nopaddingLeft smallerText'})\n",
        "  if(len(div6)>=2):\n",
        "    Timings = div6[0].get_text().strip()\n",
        "    Entry Fee = div6[1].get_text().strip()\n",
        "\n",
        "  div9= html.find_all(\"p\" , {'class' : 'textColor infoSpace'})\n",
        "  if(len(div9)>0):\n",
        "    area = div9[0].get_text().strip()\n"
      ],
      "execution_count": null,
      "outputs": []
    },
    {
      "cell_type": "code",
      "metadata": {
        "id": "e04drRqIN40n"
      },
      "source": [
        ""
      ],
      "execution_count": null,
      "outputs": []
    },
    {
      "cell_type": "code",
      "metadata": {
        "id": "GrINUOWrMpmq"
      },
      "source": [
        "import pandas as pd\n",
        "\n",
        "# place_name = []\n",
        "\n",
        "# state_name =[]\n",
        "# country_name =[]\n",
        "# money = []\n",
        "# weather = []\n",
        "# TimeRequired = []\n",
        "# Timings = []\n",
        "# EntryFee =[]\n",
        "url = []\n",
        "about = []\n",
        "for i in total:\n",
        "  link=i\n",
        "  url.append(i)\n",
        "  page = requests.get(link)\n",
        "  html = BeautifulSoup(page.content,'html.parser')\n",
        "#   div2 = html.findAll(\"h1\" , {'class' : 'h1StyleBlack'})\n",
        "#   if(len(div2)>0):\n",
        "#     place_name.append(div2[0].get_text())\n",
        "#     #print(place_name)\n",
        "#   else:\n",
        "#     place_name.append('?')\n",
        "#   div3 = html.findAll(\"div\" , {'class' : 'col-md-12 col-xs-12 nopaddingLeft '})\n",
        "#   s = ''\n",
        "#   if(len(div3)>0):\n",
        "#     for char in div3[0].get_text():\n",
        "#       if char in ['\\n',' ','\\r' , '\\t']:\n",
        "#           pass\n",
        "#       else:\n",
        "#           s+=char\n",
        "#     state_name.append(s.split('|')[0])\n",
        "#     country_name.append(s.split('|')[1])\n",
        "#   else:\n",
        "#     state_name.append('?')\n",
        "#     country_name.append('?')\n",
        "\n",
        "\n",
        "#   #print('')\n",
        "#   div5 = html.findAll(\"span\" , {'class' : 'biggerTextOverview'})\n",
        "#   if(len(div5)>0):\n",
        "#     money.append(div5[0].get_text())\n",
        "#   else:\n",
        "#     money.append('?')\n",
        "#   div8= html.find_all(\"div\" , {'class' : 'col-xs-12 col-md-5 nopaddingLeft'})\n",
        "#   if(len(div8)>0):\n",
        "#     weather.append(div8[0].get_text().strip())\n",
        "\n",
        "#   div7= html.find_all(\"div\" , {'class' : 'col-xs-12 col-md-7 nopaddingLeft'})\n",
        "#   if(len(div7)>0):\n",
        "#       TimeRequired.append(div7[0].get_text().strip().split('Time Required:')[1])\n",
        "#       #print(TimeRequired)\n",
        "#   else:\n",
        "#     TimeRequired.append('?')\n",
        "\n",
        "#   div6 = html.find_all(\"div\" , {'class' : 'col-xs-12 col-md-12 nopaddingLeft smallerText'})\n",
        "#   if(len(div6)>=2):\n",
        "#     Timings.append(div6[0].get_text().strip().split('Timings:')[1].strip())\n",
        "#     #print(Timings)\n",
        "#     EntryFee.append(div6[1].get_text().strip().split('Entry Fee:')[1].strip())\n",
        "#     #print(EntryFee)\n",
        "#   else:\n",
        "#     Timings.append('?')\n",
        "#     EntryFee.append('?')\n",
        "\n",
        "  div9= html.find_all(\"p\" , {'class' : 'textColor infoSpace'})\n",
        "  if(len(div9)>0):\n",
        "    about.append(div9[0].get_text().strip())\n",
        "  else:\n",
        "    about.append('?')\n",
        "\n"
      ],
      "execution_count": null,
      "outputs": []
    },
    {
      "cell_type": "code",
      "metadata": {
        "id": "94VjRbHEvHS2"
      },
      "source": [
        ""
      ],
      "execution_count": null,
      "outputs": []
    },
    {
      "cell_type": "code",
      "metadata": {
        "id": "3QCsJ_8ap747"
      },
      "source": [
        "data = pd.DataFrame()\n",
        "data['Place'] = place_name\n",
        "data['State'] = state_name \n",
        "data['Country'] = country_name\n",
        "data['About'] = about\n",
        "data['TimeRequired'] = TimeRequired \n",
        "data['Timings'] = Timings\n",
        "data['EntryFee'] = EntryFee\n",
        "data['Url'] =url\n",
        "print(data.shape)\n",
        "data[:20]"
      ],
      "execution_count": null,
      "outputs": []
    },
    {
      "cell_type": "code",
      "metadata": {
        "id": "2KiMJFECMpqj"
      },
      "source": [
        ""
      ],
      "execution_count": null,
      "outputs": []
    },
    {
      "cell_type": "code",
      "metadata": {
        "id": "JZHtOC7yMpkq"
      },
      "source": [
        "data.to_csv('Tourist.csv' , index=False)"
      ],
      "execution_count": null,
      "outputs": []
    },
    {
      "cell_type": "code",
      "metadata": {
        "id": "9qTK6PCfMpjQ"
      },
      "source": [
        ""
      ],
      "execution_count": null,
      "outputs": []
    },
    {
      "cell_type": "code",
      "metadata": {
        "id": "a6c7s1-qMpiI"
      },
      "source": [
        ""
      ],
      "execution_count": null,
      "outputs": []
    },
    {
      "cell_type": "code",
      "metadata": {
        "id": "-8jb3UV9Mpgg"
      },
      "source": [
        ""
      ],
      "execution_count": null,
      "outputs": []
    },
    {
      "cell_type": "code",
      "metadata": {
        "id": "a3WHigfaMpep"
      },
      "source": [
        ""
      ],
      "execution_count": null,
      "outputs": []
    },
    {
      "cell_type": "code",
      "metadata": {
        "id": "Uf4TyrRCMpcs"
      },
      "source": [
        "\n",
        "\n",
        "link = 'https://www.holidify.com/places/jaipur/'\n",
        "\n",
        "page = requests.get(link)\n",
        "html = BeautifulSoup(page.content,'html.parser')\n",
        "div2 = html.findAll(\"h1\" , {'class' : 'h1StyleBlack'})\n",
        "if(len(div2)>0):\n",
        "  print(div2[0].get_text().strip())\n",
        "div3 = html.findAll(\"div\" , {'class' : 'col-xs-12 col-md-12 nopadding'})\n",
        "if(len(div3)>0):\n",
        "  for char in div3[0].get_text():\n",
        "    if char in ['\\n', '\\r','\\t']:\n",
        "        pass\n",
        "    else:\n",
        "        print(char, end='')\n",
        "\n",
        "\n",
        "print('')\n",
        "\n",
        "\n",
        "div5 = html.findAll(\"span\" , {'class' : 'biggerTextOverview'})\n",
        "if(len(div5)>0):\n",
        "  print(div5[0].get_text())\n",
        "  \n",
        "div8= html.find_all(\"div\" , {'class' : 'col-md-5 col-xs-12 nopadding smallerText'})\n",
        "if(len(div8)>0):\n",
        "  print(div8[0].get_text().strip().split('\\n')[0])\n",
        "  print(div8[0].get_text().strip().split('\\n')[2])\n",
        "  \n",
        "\n",
        "div7= html.find_all(\"div\" , {'class' : 'col-md-7 col-xs-12 nopadding smallerText'})\n",
        "if(len(div7)>0):\n",
        "    print(div7[0].get_text())\n",
        "\n",
        "\n",
        "div9= html.find_all(\"div\" , {'class' : 'col-md-12 col-xs-12 middleSection'})\n",
        "if(len(div9)>0):\n",
        "  print(div9[0].get_text().strip())\n",
        "  print(div9[1].get_text().strip())\n"
      ],
      "execution_count": null,
      "outputs": []
    }
  ]
}