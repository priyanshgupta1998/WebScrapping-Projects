{
 "cells": [
  {
   "cell_type": "markdown",
   "metadata": {},
   "source": [
    "#### Task 3: \n",
    "#### Scrape data for all products from the Men's Clearance section using Python from https://www.next.co.uk/ . The data we want you to collect should be for United Kingdom. Make sure that you select the right country and the prices are in GB Pounds (£).\n",
    ">The output should be a .csv file with the following column headers.  \n",
    ">Name: the name or the title of the product   \n",
    ">Brand: the brand name of the product   \n",
    ">Original Price: the price of the product before the discount   \n",
    ">Discounted Price: the price of the product after the discount   \n",
    ">Image Url: the url of the product image "
   ]
  },
  {
   "cell_type": "markdown",
   "metadata": {},
   "source": [
    "#### Import All Necessary packages"
   ]
  },
  {
   "cell_type": "code",
   "execution_count": 49,
   "metadata": {},
   "outputs": [],
   "source": [
    "#import all necessary packages\n",
    "from bs4 import BeautifulSoup\n",
    "import re, csv, time, random, pandas as pd\n",
    "from lxml import html\n",
    "import requests\n",
    "import math\n",
    "from csv import writer\n",
    "from selenium import webdriver\n",
    "import urllib.request\n",
    "from lxml import html\n",
    "from selenium.webdriver.support.wait import WebDriverWait"
   ]
  },
  {
   "cell_type": "markdown",
   "metadata": {},
   "source": [
    "#### All the xpaths which will be used to extract  the particular data through the crawling"
   ]
  },
  {
   "cell_type": "code",
   "execution_count": 50,
   "metadata": {},
   "outputs": [],
   "source": [
    "#Configuration Block \n",
    "Product_Numbers = '/html/body/section[1]/section[1]/div/div[7]/div[1]'\n",
    "Product_Name_Xpath = './div[2]/div[1]/div[1]/text()'\n",
    "Item_Number_Xpath = './div[2]/div[1]/div[2]/text()'\n",
    "Original_Price_Xpath = './div[2]/div[3]/div[1]/text()'\n",
    "Discounted_Price_Xpath = './div[2]/div[3]/div[2]/div[2]/text()'\n",
    "Image_Url_Xpath = './div[1]/a[2]/div/img/@src'\n",
    "Product_Number_Per_Page_Xapth = '//div[@class=\"search-result-item multiple\"]'"
   ]
  },
  {
   "cell_type": "markdown",
   "metadata": {},
   "source": [
    "#### *Heading 1: Start Crawling for the products from United Kingdom with price in  GB Pounds (£)."
   ]
  },
  {
   "cell_type": "code",
   "execution_count": 57,
   "metadata": {
    "scrolled": true
   },
   "outputs": [
    {
     "name": "stdout",
     "output_type": "stream",
     "text": [
      "Total Number of Products Available :  2228\n",
      "Total Pages needs to be crawled :  93\n",
      "Product Crawled from Page :  2  :  24\n",
      "Product Crawled from Page :  3  :  24\n",
      "Product Crawled from Page :  4  :  24\n",
      "Product Crawled from Page :  5  :  24\n",
      "Product Crawled from Page :  6  :  24\n",
      "Product Crawled from Page :  7  :  24\n",
      "Product Crawled from Page :  8  :  24\n",
      "Product Crawled from Page :  9  :  24\n",
      "Product Crawled from Page :  10  :  24\n",
      "Product Crawled from Page :  11  :  24\n",
      "Product Crawled from Page :  12  :  24\n",
      "Product Crawled from Page :  13  :  24\n",
      "Product Crawled from Page :  14  :  24\n",
      "Product Crawled from Page :  15  :  24\n",
      "Product Crawled from Page :  16  :  24\n",
      "Product Crawled from Page :  17  :  24\n",
      "Product Crawled from Page :  18  :  24\n",
      "Product Crawled from Page :  19  :  24\n",
      "Product Crawled from Page :  20  :  24\n",
      "Product Crawled from Page :  21  :  24\n",
      "Product Crawled from Page :  22  :  24\n",
      "Product Crawled from Page :  23  :  24\n",
      "Product Crawled from Page :  24  :  24\n",
      "Product Crawled from Page :  25  :  24\n",
      "Product Crawled from Page :  26  :  24\n",
      "Product Crawled from Page :  27  :  24\n",
      "Product Crawled from Page :  28  :  24\n",
      "Product Crawled from Page :  29  :  24\n",
      "Product Crawled from Page :  30  :  24\n",
      "Product Crawled from Page :  31  :  24\n",
      "Product Crawled from Page :  32  :  24\n",
      "Product Crawled from Page :  33  :  24\n",
      "Product Crawled from Page :  34  :  24\n",
      "Product Crawled from Page :  35  :  24\n",
      "Product Crawled from Page :  36  :  24\n",
      "Product Crawled from Page :  37  :  24\n",
      "Product Crawled from Page :  38  :  24\n",
      "Product Crawled from Page :  39  :  24\n",
      "Product Crawled from Page :  40  :  24\n",
      "Product Crawled from Page :  41  :  24\n",
      "Product Crawled from Page :  42  :  24\n",
      "Product Crawled from Page :  43  :  24\n",
      "Product Crawled from Page :  44  :  24\n",
      "Product Crawled from Page :  45  :  24\n",
      "Product Crawled from Page :  46  :  24\n",
      "Product Crawled from Page :  47  :  24\n",
      "Product Crawled from Page :  48  :  24\n",
      "Product Crawled from Page :  49  :  24\n",
      "Product Crawled from Page :  50  :  24\n",
      "Product Crawled from Page :  51  :  24\n",
      "Product Crawled from Page :  52  :  24\n",
      "Product Crawled from Page :  53  :  24\n",
      "Product Crawled from Page :  54  :  24\n",
      "Product Crawled from Page :  55  :  24\n",
      "Product Crawled from Page :  56  :  24\n",
      "Product Crawled from Page :  57  :  24\n",
      "Product Crawled from Page :  58  :  24\n",
      "Product Crawled from Page :  59  :  24\n",
      "Product Crawled from Page :  60  :  24\n",
      "Product Crawled from Page :  61  :  24\n",
      "Product Crawled from Page :  62  :  24\n",
      "Product Crawled from Page :  63  :  24\n",
      "Product Crawled from Page :  64  :  24\n",
      "Product Crawled from Page :  65  :  24\n",
      "Product Crawled from Page :  66  :  24\n",
      "Product Crawled from Page :  67  :  24\n",
      "Product Crawled from Page :  68  :  24\n",
      "Product Crawled from Page :  69  :  24\n",
      "Product Crawled from Page :  70  :  24\n",
      "Product Crawled from Page :  71  :  24\n",
      "Product Crawled from Page :  72  :  24\n",
      "Product Crawled from Page :  73  :  24\n",
      "Product Crawled from Page :  74  :  24\n",
      "Product Crawled from Page :  75  :  24\n",
      "Product Crawled from Page :  76  :  24\n",
      "Product Crawled from Page :  77  :  24\n",
      "Product Crawled from Page :  78  :  24\n",
      "Product Crawled from Page :  79  :  24\n",
      "Product Crawled from Page :  80  :  24\n",
      "Product Crawled from Page :  81  :  24\n",
      "Product Crawled from Page :  82  :  24\n",
      "Product Crawled from Page :  83  :  24\n",
      "Product Crawled from Page :  84  :  24\n",
      "Product Crawled from Page :  85  :  24\n",
      "Product Crawled from Page :  86  :  24\n",
      "Product Crawled from Page :  87  :  24\n",
      "Product Crawled from Page :  88  :  24\n",
      "Product Crawled from Page :  89  :  24\n",
      "Product Crawled from Page :  90  :  24\n",
      "Product Crawled from Page :  91  :  24\n",
      "Product Crawled from Page :  92  :  24\n",
      "Product Crawled from Page :  93  :  20\n",
      "2228 Products Have been crawled\n"
     ]
    }
   ],
   "source": [
    "#Provide the Web Url\n",
    "url = \"https://www.next.co.uk/clearance/search?w=*&af=gender:men%20gender:men%20&srt=24#searchpos_1_24\"\n",
    "#Use Mozilla Firefox Web selenium driever\n",
    "driver = webdriver.Firefox()\n",
    "#Give time to load the web page to fetch the complete content\n",
    "driver.set_page_load_timeout(100) \n",
    "#start automation\n",
    "driver.get(url)\n",
    "#Wait for the Page loading\n",
    "time.sleep(2) \n",
    "driver.implicitly_wait(1000)\n",
    "#maximize the browser\n",
    "driver.maximize_window()\n",
    "\n",
    "#Get lxml trees from the raw data\n",
    "HTMLTree = html.fromstring(driver.page_source)\n",
    "\n",
    "#Get The Number of Products details\n",
    "NProducts = HTMLTree.xpath(Product_Numbers)\n",
    "total_prodcuts = int(NProducts[0].text_content().split()[2].replace(',',''))\n",
    "print('Total Number of Products Available : ' , total_prodcuts)\n",
    "\n",
    "#Crawl products per page\n",
    "per_page_products = 24\n",
    "total_pages_needs_to_be_crawled = math.ceil(total_prodcuts/per_page_products)\n",
    "print('Total Pages needs to be crawled : ' , total_pages_needs_to_be_crawled)\n",
    "\n",
    "\n",
    "output_rows = []\n",
    "\n",
    "class NextCoUk:\n",
    "    def __init__(self):\n",
    "        self.start = 'start'\n",
    "        \n",
    "    def ManClearance(self,data,output_rows):\n",
    "        for product_n in range(len(data)):\n",
    "            product_name = data[product_n].xpath(Product_Name_Xpath)[0]\n",
    "            item_number = data[product_n].xpath(Item_Number_Xpath)[0]\n",
    "            product_original_price = data[product_n].xpath(Original_Price_Xpath)[0].strip().replace('Original','')\n",
    "            product_discount_price = data[product_n].xpath(Discounted_Price_Xpath)[0]\n",
    "            image_url = data[product_n].xpath(Image_Url_Xpath)[0]\n",
    "            output_rows+= [[product_name,item_number,product_original_price,product_discount_price,image_url]]\n",
    "        return output_rows\n",
    "    \n",
    "    def FetchDetails(self,driver):\n",
    "        tree = html.fromstring(driver.page_source)\n",
    "        data = tree.xpath(Product_Number_Per_Page_Xapth)\n",
    "        return data\n",
    "\n",
    "    \n",
    "data = HTMLTree.xpath(Product_Number_Per_Page_Xapth)\n",
    "#Create the object of the class and call a method\n",
    "First_Page_Data = NextCoUk()\n",
    "output_rows = First_Page_Data.ManClearance(data,output_rows)\n",
    "\n",
    "#Base Url\n",
    "base_url = \"https://www.next.co.uk/clearance/search?w=*&af=gender:men%20gender:men%20&srt=24#searchpos_{}_{}\"\n",
    "\n",
    "#Crawl Product Details for Other Pages\n",
    "for page_n in range(2 , total_pages_needs_to_be_crawled+1):\n",
    "    rebuild_url = base_url.format(page_n,((page_n-1)*24) + 12 )\n",
    "    driver.get(rebuild_url)\n",
    "    #Wait for the page loading\n",
    "    time.sleep(2)\n",
    "    driver.implicitly_wait(1000)\n",
    "    #maximize the browser\n",
    "    driver.maximize_window()\n",
    "    data = NextCoUk().FetchDetails(driver)\n",
    "    print('Product Crawled from Page : ' , page_n ,' : ',  len(data))\n",
    "    output_rows = NextCoUk().ManClearance(data[:24],output_rows)\n",
    "\n",
    "driver.quit()\n",
    "print('{} Products Have been crawled'.format(len(output_rows)))\n"
   ]
  },
  {
   "cell_type": "markdown",
   "metadata": {},
   "source": [
    "#### Store Crawled information in excel file (.csv format) "
   ]
  },
  {
   "cell_type": "code",
   "execution_count": 58,
   "metadata": {},
   "outputs": [],
   "source": [
    "#create a list of column names \n",
    "Column_Names = [['Product_Name' ,'Product_Item_Number' , 'Original_Price' , 'Discount_Price' ,  'Image_Url']]\n",
    "#append columns with data as header\n",
    "output_rows = Column_Names + output_rows\n",
    "\n",
    "#Write complete data in csv file \n",
    "#create excel data file\n",
    "Filename = \"NextCoUk.csv\"  #Give file name with path\n",
    "with open(Filename, \"w\", newline=\"\") as csvfile:\n",
    "    writer = csv.writer(csvfile)\n",
    "    writer.writerows(output_rows)"
   ]
  },
  {
   "cell_type": "markdown",
   "metadata": {},
   "source": [
    "#### Read Dataset "
   ]
  },
  {
   "cell_type": "code",
   "execution_count": 60,
   "metadata": {},
   "outputs": [
    {
     "name": "stdout",
     "output_type": "stream",
     "text": [
      "Length of dataset :  2228\n",
      "Number of Duplicate Rows :  0\n"
     ]
    },
    {
     "data": {
      "text/html": [
       "<div>\n",
       "<style scoped>\n",
       "    .dataframe tbody tr th:only-of-type {\n",
       "        vertical-align: middle;\n",
       "    }\n",
       "\n",
       "    .dataframe tbody tr th {\n",
       "        vertical-align: top;\n",
       "    }\n",
       "\n",
       "    .dataframe thead th {\n",
       "        text-align: right;\n",
       "    }\n",
       "</style>\n",
       "<table border=\"1\" class=\"dataframe\">\n",
       "  <thead>\n",
       "    <tr style=\"text-align: right;\">\n",
       "      <th></th>\n",
       "      <th>Product_Name</th>\n",
       "      <th>Product_Item_Number</th>\n",
       "      <th>Original_Price</th>\n",
       "      <th>Discount_Price</th>\n",
       "      <th>Image_Url</th>\n",
       "    </tr>\n",
       "  </thead>\n",
       "  <tbody>\n",
       "    <tr>\n",
       "      <th>0</th>\n",
       "      <td>Bright Blue Slim Fit Check Suit: Jacket</td>\n",
       "      <td>361-381</td>\n",
       "      <td>£84</td>\n",
       "      <td>£16</td>\n",
       "      <td>https://xcdn.next.co.uk/COMMON/Items/Default/D...</td>\n",
       "    </tr>\n",
       "    <tr>\n",
       "      <th>1</th>\n",
       "      <td>Bright Blue Slim Fit Check Suit: Trousers</td>\n",
       "      <td>872-134</td>\n",
       "      <td>£45</td>\n",
       "      <td>£13.50</td>\n",
       "      <td>https://xcdn.next.co.uk/COMMON/Items/Default/D...</td>\n",
       "    </tr>\n",
       "    <tr>\n",
       "      <th>2</th>\n",
       "      <td>Under Armour Charged Trainers</td>\n",
       "      <td>976-269</td>\n",
       "      <td>£65</td>\n",
       "      <td>£32</td>\n",
       "      <td>https://xcdn.next.co.uk/COMMON/Items/Default/D...</td>\n",
       "    </tr>\n",
       "    <tr>\n",
       "      <th>3</th>\n",
       "      <td>Blue Regular Fit Linen Blend Long Sleeve Shirt</td>\n",
       "      <td>296-495</td>\n",
       "      <td>£26</td>\n",
       "      <td>£9</td>\n",
       "      <td>https://xcdn.next.co.uk/COMMON/Items/Default/D...</td>\n",
       "    </tr>\n",
       "    <tr>\n",
       "      <th>4</th>\n",
       "      <td>Grey Camouflage Cargo Shorts</td>\n",
       "      <td>205-660</td>\n",
       "      <td>£24</td>\n",
       "      <td>£12</td>\n",
       "      <td>https://xcdn.next.co.uk/COMMON/Items/Default/D...</td>\n",
       "    </tr>\n",
       "  </tbody>\n",
       "</table>\n",
       "</div>"
      ],
      "text/plain": [
       "                                     Product_Name Product_Item_Number  \\\n",
       "0         Bright Blue Slim Fit Check Suit: Jacket             361-381   \n",
       "1       Bright Blue Slim Fit Check Suit: Trousers             872-134   \n",
       "2                   Under Armour Charged Trainers             976-269   \n",
       "3  Blue Regular Fit Linen Blend Long Sleeve Shirt             296-495   \n",
       "4                    Grey Camouflage Cargo Shorts             205-660   \n",
       "\n",
       "  Original_Price Discount_Price  \\\n",
       "0            £84            £16   \n",
       "1            £45         £13.50   \n",
       "2            £65            £32   \n",
       "3            £26             £9   \n",
       "4            £24            £12   \n",
       "\n",
       "                                           Image_Url  \n",
       "0  https://xcdn.next.co.uk/COMMON/Items/Default/D...  \n",
       "1  https://xcdn.next.co.uk/COMMON/Items/Default/D...  \n",
       "2  https://xcdn.next.co.uk/COMMON/Items/Default/D...  \n",
       "3  https://xcdn.next.co.uk/COMMON/Items/Default/D...  \n",
       "4  https://xcdn.next.co.uk/COMMON/Items/Default/D...  "
      ]
     },
     "execution_count": 60,
     "metadata": {},
     "output_type": "execute_result"
    }
   ],
   "source": [
    "import pandas as pd\n",
    "df = pd.read_csv(r'NextCoUk.csv', engine='python')\n",
    "print('Length of dataset : ' , len(df))\n",
    "print('Number of Duplicate Rows : ', df.duplicated().sum())\n",
    "#Extract first 5 rows from the dataset\n",
    "df.head()"
   ]
  },
  {
   "cell_type": "markdown",
   "metadata": {},
   "source": [
    "#### Simple Data Analysis"
   ]
  },
  {
   "cell_type": "code",
   "execution_count": 63,
   "metadata": {},
   "outputs": [
    {
     "data": {
      "text/html": [
       "<div>\n",
       "<style scoped>\n",
       "    .dataframe tbody tr th:only-of-type {\n",
       "        vertical-align: middle;\n",
       "    }\n",
       "\n",
       "    .dataframe tbody tr th {\n",
       "        vertical-align: top;\n",
       "    }\n",
       "\n",
       "    .dataframe thead th {\n",
       "        text-align: right;\n",
       "    }\n",
       "</style>\n",
       "<table border=\"1\" class=\"dataframe\">\n",
       "  <thead>\n",
       "    <tr style=\"text-align: right;\">\n",
       "      <th></th>\n",
       "      <th>Product_Name</th>\n",
       "      <th>Product_Item_Number</th>\n",
       "      <th>Original_Price</th>\n",
       "      <th>Discount_Price</th>\n",
       "      <th>Image_Url</th>\n",
       "    </tr>\n",
       "  </thead>\n",
       "  <tbody>\n",
       "    <tr>\n",
       "      <th>count</th>\n",
       "      <td>2228</td>\n",
       "      <td>2228</td>\n",
       "      <td>2140</td>\n",
       "      <td>2228</td>\n",
       "      <td>2228</td>\n",
       "    </tr>\n",
       "    <tr>\n",
       "      <th>unique</th>\n",
       "      <td>2148</td>\n",
       "      <td>2228</td>\n",
       "      <td>146</td>\n",
       "      <td>89</td>\n",
       "      <td>2228</td>\n",
       "    </tr>\n",
       "    <tr>\n",
       "      <th>top</th>\n",
       "      <td>Textured Suit: Jacket</td>\n",
       "      <td>279-840</td>\n",
       "      <td>£25</td>\n",
       "      <td>£15</td>\n",
       "      <td>https://xcdn.next.co.uk/COMMON/Items/Default/D...</td>\n",
       "    </tr>\n",
       "    <tr>\n",
       "      <th>freq</th>\n",
       "      <td>4</td>\n",
       "      <td>1</td>\n",
       "      <td>147</td>\n",
       "      <td>245</td>\n",
       "      <td>1</td>\n",
       "    </tr>\n",
       "  </tbody>\n",
       "</table>\n",
       "</div>"
      ],
      "text/plain": [
       "                 Product_Name Product_Item_Number Original_Price  \\\n",
       "count                    2228                2228           2140   \n",
       "unique                   2148                2228            146   \n",
       "top     Textured Suit: Jacket             279-840            £25   \n",
       "freq                        4                   1            147   \n",
       "\n",
       "       Discount_Price                                          Image_Url  \n",
       "count            2228                                               2228  \n",
       "unique             89                                               2228  \n",
       "top               £15  https://xcdn.next.co.uk/COMMON/Items/Default/D...  \n",
       "freq              245                                                  1  "
      ]
     },
     "execution_count": 63,
     "metadata": {},
     "output_type": "execute_result"
    }
   ],
   "source": [
    "df.describe()"
   ]
  },
  {
   "cell_type": "code",
   "execution_count": 64,
   "metadata": {},
   "outputs": [
    {
     "name": "stdout",
     "output_type": "stream",
     "text": [
      "<class 'pandas.core.frame.DataFrame'>\n",
      "RangeIndex: 2228 entries, 0 to 2227\n",
      "Data columns (total 5 columns):\n",
      " #   Column               Non-Null Count  Dtype \n",
      "---  ------               --------------  ----- \n",
      " 0   Product_Name         2228 non-null   object\n",
      " 1   Product_Item_Number  2228 non-null   object\n",
      " 2   Original_Price       2140 non-null   object\n",
      " 3   Discount_Price       2228 non-null   object\n",
      " 4   Image_Url            2228 non-null   object\n",
      "dtypes: object(5)\n",
      "memory usage: 87.2+ KB\n"
     ]
    }
   ],
   "source": [
    "df.info()"
   ]
  },
  {
   "cell_type": "code",
   "execution_count": 61,
   "metadata": {},
   "outputs": [
    {
     "data": {
      "text/html": [
       "<div>\n",
       "<style scoped>\n",
       "    .dataframe tbody tr th:only-of-type {\n",
       "        vertical-align: middle;\n",
       "    }\n",
       "\n",
       "    .dataframe tbody tr th {\n",
       "        vertical-align: top;\n",
       "    }\n",
       "\n",
       "    .dataframe thead th {\n",
       "        text-align: right;\n",
       "    }\n",
       "</style>\n",
       "<table border=\"1\" class=\"dataframe\">\n",
       "  <thead>\n",
       "    <tr style=\"text-align: right;\">\n",
       "      <th></th>\n",
       "      <th>Product_Name</th>\n",
       "      <th>Product_Item_Number</th>\n",
       "      <th>Original_Price</th>\n",
       "      <th>Discount_Price</th>\n",
       "      <th>Image_Url</th>\n",
       "    </tr>\n",
       "  </thead>\n",
       "  <tbody>\n",
       "  </tbody>\n",
       "</table>\n",
       "</div>"
      ],
      "text/plain": [
       "Empty DataFrame\n",
       "Columns: [Product_Name, Product_Item_Number, Original_Price, Discount_Price, Image_Url]\n",
       "Index: []"
      ]
     },
     "execution_count": 61,
     "metadata": {},
     "output_type": "execute_result"
    }
   ],
   "source": [
    "#Check duplicate item\n",
    "df[df.duplicated(['Product_Item_Number'])]"
   ]
  },
  {
   "cell_type": "markdown",
   "metadata": {},
   "source": [
    "#### Hence there is no duplicate things"
   ]
  },
  {
   "cell_type": "code",
   "execution_count": null,
   "metadata": {},
   "outputs": [],
   "source": []
  },
  {
   "cell_type": "code",
   "execution_count": null,
   "metadata": {},
   "outputs": [],
   "source": []
  },
  {
   "cell_type": "code",
   "execution_count": null,
   "metadata": {},
   "outputs": [],
   "source": []
  },
  {
   "cell_type": "code",
   "execution_count": null,
   "metadata": {},
   "outputs": [],
   "source": []
  },
  {
   "cell_type": "code",
   "execution_count": null,
   "metadata": {},
   "outputs": [],
   "source": []
  }
 ],
 "metadata": {
  "kernelspec": {
   "display_name": "Python 3",
   "language": "python",
   "name": "python3"
  },
  "language_info": {
   "codemirror_mode": {
    "name": "ipython",
    "version": 3
   },
   "file_extension": ".py",
   "mimetype": "text/x-python",
   "name": "python",
   "nbconvert_exporter": "python",
   "pygments_lexer": "ipython3",
   "version": "3.6.7"
  }
 },
 "nbformat": 4,
 "nbformat_minor": 2
}
